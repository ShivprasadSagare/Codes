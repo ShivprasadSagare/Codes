{
  "nbformat": 4,
  "nbformat_minor": 0,
  "metadata": {
    "colab": {
      "provenance": [],
      "include_colab_link": true
    },
    "kernelspec": {
      "name": "python3",
      "display_name": "Python 3"
    },
    "language_info": {
      "name": "python"
    }
  },
  "cells": [
    {
      "cell_type": "markdown",
      "metadata": {
        "id": "view-in-github",
        "colab_type": "text"
      },
      "source": [
        "<a href=\"https://colab.research.google.com/github/ShivprasadSagare/Codes/blob/master/Survey_of_libraries_for_number_text_normalization.ipynb\" target=\"_parent\"><img src=\"https://colab.research.google.com/assets/colab-badge.svg\" alt=\"Open In Colab\"/></a>"
      ]
    },
    {
      "cell_type": "markdown",
      "source": [
        "# English"
      ],
      "metadata": {
        "id": "VZrH1MGOTxvs"
      }
    },
    {
      "cell_type": "markdown",
      "source": [
        "# word2number\n",
        "## for converting textual format to numeric format"
      ],
      "metadata": {
        "id": "JYxuiIqJTCDD"
      }
    },
    {
      "cell_type": "code",
      "source": [
        "!pip install word2number"
      ],
      "metadata": {
        "id": "Q3kGrzuVSZ07",
        "colab": {
          "base_uri": "https://localhost:8080/"
        },
        "outputId": "9fea78fb-5f0a-4eb5-8c85-29bdf1ae2237"
      },
      "execution_count": 36,
      "outputs": [
        {
          "output_type": "stream",
          "name": "stdout",
          "text": [
            "Collecting word2number\n",
            "  Downloading word2number-1.1.zip (9.7 kB)\n",
            "  Preparing metadata (setup.py) ... \u001b[?25l\u001b[?25hdone\n",
            "Building wheels for collected packages: word2number\n",
            "  Building wheel for word2number (setup.py) ... \u001b[?25l\u001b[?25hdone\n",
            "  Created wheel for word2number: filename=word2number-1.1-py3-none-any.whl size=5567 sha256=a4b36a68629ff9ea2989d5e44a0e5b5c3c2ae79484be0a5240b315cbeed2de0c\n",
            "  Stored in directory: /root/.cache/pip/wheels/84/ff/26/d3cfbd971e96c5aa3737ecfced81628830d7359b55fbb8ca3b\n",
            "Successfully built word2number\n",
            "Installing collected packages: word2number\n",
            "Successfully installed word2number-1.1\n"
          ]
        }
      ]
    },
    {
      "cell_type": "code",
      "source": [
        "from word2number import w2n"
      ],
      "metadata": {
        "id": "XpmOh3-hS2CL"
      },
      "execution_count": 37,
      "outputs": []
    },
    {
      "cell_type": "code",
      "source": [
        "w2n.word_to_num('five hundred sixty one')"
      ],
      "metadata": {
        "colab": {
          "base_uri": "https://localhost:8080/"
        },
        "id": "Aqcj7R7fSxq-",
        "outputId": "2e4d92e8-d288-4b66-82ba-2f1995413bf9"
      },
      "execution_count": 38,
      "outputs": [
        {
          "output_type": "execute_result",
          "data": {
            "text/plain": [
              "561"
            ]
          },
          "metadata": {},
          "execution_count": 38
        }
      ]
    },
    {
      "cell_type": "code",
      "source": [
        "w2n.word_to_num('million')"
      ],
      "metadata": {
        "colab": {
          "base_uri": "https://localhost:8080/"
        },
        "id": "QfJKm8bXS6Bs",
        "outputId": "e51e81df-5294-46fa-8450-e1f574b976ee"
      },
      "execution_count": null,
      "outputs": [
        {
          "output_type": "execute_result",
          "data": {
            "text/plain": [
              "1000000"
            ]
          },
          "metadata": {},
          "execution_count": 4
        }
      ]
    },
    {
      "cell_type": "code",
      "source": [
        "w2n.word_to_num('twenty first')"
      ],
      "metadata": {
        "colab": {
          "base_uri": "https://localhost:8080/"
        },
        "id": "RFkRiByLTW_t",
        "outputId": "4d52d2d5-aeb8-4638-aa9f-bf85c3afaed9"
      },
      "execution_count": null,
      "outputs": [
        {
          "output_type": "execute_result",
          "data": {
            "text/plain": [
              "20"
            ]
          },
          "metadata": {},
          "execution_count": 5
        }
      ]
    },
    {
      "cell_type": "markdown",
      "source": [
        "missing the ordinal text above"
      ],
      "metadata": {
        "id": "lT-EF6e5TZkq"
      }
    },
    {
      "cell_type": "code",
      "source": [
        "w2n.word_to_num('five point five million')"
      ],
      "metadata": {
        "colab": {
          "base_uri": "https://localhost:8080/"
        },
        "id": "JE9RLeCLS9E7",
        "outputId": "42859101-cb82-4eb7-ebbc-912a47457185"
      },
      "execution_count": null,
      "outputs": [
        {
          "output_type": "execute_result",
          "data": {
            "text/plain": [
              "5"
            ]
          },
          "metadata": {},
          "execution_count": 6
        }
      ]
    },
    {
      "cell_type": "markdown",
      "source": [
        "missing 'point'"
      ],
      "metadata": {
        "id": "GG2VUI8fTg0w"
      }
    },
    {
      "cell_type": "code",
      "source": [
        "w2n.word_to_num('five million and fifty thousand')"
      ],
      "metadata": {
        "colab": {
          "base_uri": "https://localhost:8080/"
        },
        "id": "sLRgoG6fTAaA",
        "outputId": "1a2d934c-39f3-4bf3-8f10-6970cc1a38d2"
      },
      "execution_count": null,
      "outputs": [
        {
          "output_type": "execute_result",
          "data": {
            "text/plain": [
              "5051050"
            ]
          },
          "metadata": {},
          "execution_count": 7
        }
      ]
    },
    {
      "cell_type": "markdown",
      "source": [
        "missing some unusual verbalizations"
      ],
      "metadata": {
        "id": "rBzHABwvTj6Y"
      }
    },
    {
      "cell_type": "code",
      "source": [
        "w2n.word_to_num('i have five fingers')"
      ],
      "metadata": {
        "colab": {
          "base_uri": "https://localhost:8080/"
        },
        "id": "Xh4ZxIUqT_Qw",
        "outputId": "47fbfdc1-e0c7-408b-f1b6-bb238754ea81"
      },
      "execution_count": null,
      "outputs": [
        {
          "output_type": "execute_result",
          "data": {
            "text/plain": [
              "5"
            ]
          },
          "metadata": {},
          "execution_count": 9
        }
      ]
    },
    {
      "cell_type": "markdown",
      "source": [
        "Value error raised on wrong speelings/invalid words"
      ],
      "metadata": {
        "id": "Y2WBK1qdUB9b"
      }
    },
    {
      "cell_type": "markdown",
      "source": [
        "# inflect\n",
        "## for converting numeric format to textual format"
      ],
      "metadata": {
        "id": "wG0jUtUTTMMM"
      }
    },
    {
      "cell_type": "code",
      "execution_count": 2,
      "metadata": {
        "id": "3A5ovIn6SUD-",
        "colab": {
          "base_uri": "https://localhost:8080/"
        },
        "outputId": "99e9daab-ae09-406f-84b4-271b408a1a43"
      },
      "outputs": [
        {
          "output_type": "stream",
          "name": "stdout",
          "text": [
            "Requirement already satisfied: inflect in /usr/local/lib/python3.10/dist-packages (6.0.5)\n",
            "Requirement already satisfied: pydantic<2,>=1.9.1 in /usr/local/lib/python3.10/dist-packages (from inflect) (1.10.11)\n",
            "Requirement already satisfied: typing-extensions>=4.2.0 in /usr/local/lib/python3.10/dist-packages (from pydantic<2,>=1.9.1->inflect) (4.7.1)\n"
          ]
        }
      ],
      "source": [
        "!pip install inflect"
      ]
    },
    {
      "cell_type": "code",
      "source": [
        "import inflect"
      ],
      "metadata": {
        "id": "Ziq7CFu0Sjq-"
      },
      "execution_count": 3,
      "outputs": []
    },
    {
      "cell_type": "code",
      "source": [
        "p = inflect.engine()"
      ],
      "metadata": {
        "id": "fauz7aolSZWj"
      },
      "execution_count": 4,
      "outputs": []
    },
    {
      "cell_type": "code",
      "source": [
        "p.number_to_words(52)"
      ],
      "metadata": {
        "colab": {
          "base_uri": "https://localhost:8080/",
          "height": 35
        },
        "id": "6M7iXWbYSeFp",
        "outputId": "b514ed3a-65f7-4c05-874c-78b65f25c73f"
      },
      "execution_count": null,
      "outputs": [
        {
          "output_type": "execute_result",
          "data": {
            "text/plain": [
              "'fifty-two'"
            ],
            "application/vnd.google.colaboratory.intrinsic+json": {
              "type": "string"
            }
          },
          "metadata": {},
          "execution_count": 13
        }
      ]
    },
    {
      "cell_type": "code",
      "source": [
        "p.number_to_words('561st')"
      ],
      "metadata": {
        "colab": {
          "base_uri": "https://localhost:8080/",
          "height": 35
        },
        "id": "63ab4Q2ySlv5",
        "outputId": "92af1a2f-46eb-473b-e4bb-72fb6e379314"
      },
      "execution_count": null,
      "outputs": [
        {
          "output_type": "execute_result",
          "data": {
            "text/plain": [
              "'five hundred and sixty-first'"
            ],
            "application/vnd.google.colaboratory.intrinsic+json": {
              "type": "string"
            }
          },
          "metadata": {},
          "execution_count": 14
        }
      ]
    },
    {
      "cell_type": "code",
      "source": [
        "p.ordinal('five hundred')"
      ],
      "metadata": {
        "colab": {
          "base_uri": "https://localhost:8080/",
          "height": 35
        },
        "id": "Rf95fbkSSrSw",
        "outputId": "e5c9c739-50da-44f7-aa48-c0fe2a489651"
      },
      "execution_count": null,
      "outputs": [
        {
          "output_type": "execute_result",
          "data": {
            "text/plain": [
              "'five hundredth'"
            ],
            "application/vnd.google.colaboratory.intrinsic+json": {
              "type": "string"
            }
          },
          "metadata": {},
          "execution_count": 15
        }
      ]
    },
    {
      "cell_type": "markdown",
      "source": [
        "overall seems quite robust"
      ],
      "metadata": {
        "id": "qr3N5qcmUJgl"
      }
    },
    {
      "cell_type": "markdown",
      "source": [
        "## Test cases for English"
      ],
      "metadata": {
        "id": "mmQRdsfB6t-o"
      }
    },
    {
      "cell_type": "code",
      "source": [
        "num_to_word = {\n",
        "    'When is your 21st birthday?': [\n",
        "        'When is your twenty first birthday?',\n",
        "        'When is your twenty-first birthday?'\n",
        "    ],\n",
        "    'When is your 21 st birthday?': [\n",
        "        'When is your twenty first birthday?',\n",
        "        'When is your twenty-first birthday?'\n",
        "    ],\n",
        "    'Give me 1 million rs': [\n",
        "        'Give me one million rs'\n",
        "    ],\n",
        "    'I need 15 oranges': [\n",
        "        'I need fifteen oranges'\n",
        "    ],\n",
        "    'What do 1563 apples cost?': [\n",
        "        'What do fifteen hundred and sixty three apples cost?',\n",
        "        'What do one thousand five hundred and sixty three apples cost?'\n",
        "    ],\n",
        "    'The revolt happened in 1857': [\n",
        "        'The revolt happened in eighteen fifty seven',\n",
        "        'The revolt happened in eighteen hundred and fifty seven'\n",
        "    ],\n",
        "    'my phone number is 8916712763': [\n",
        "        'my phone number is eight nine one six seven one two seven six three'\n",
        "    ],\n",
        "    'i need to pay 25,560 dollars to her.': [\n",
        "        'I need to pay twenty five thousand five hundred and sixty three dollars to her'\n",
        "    ]\n",
        "}"
      ],
      "metadata": {
        "id": "98xURjuQ6tX1"
      },
      "execution_count": 32,
      "outputs": []
    },
    {
      "cell_type": "code",
      "source": [
        "word_to_num = {\n",
        "    'When is your twenty first birthday?' : [\n",
        "        'When is your 21st birthday?'\n",
        "    ],\n",
        "    'Give me five hundred and fifty five rs.' : [\n",
        "        'Give me 555 rs.'\n",
        "    ],\n",
        "    'It is worth a million pounds' : [\n",
        "        'It is worth 1000000 pounds'\n",
        "    ],\n",
        "    'I came second in the race.' : [\n",
        "        'I came 2nd in the race'\n",
        "    ]\n",
        "}\n"
      ],
      "metadata": {
        "id": "VCT7rfzP6_rg"
      },
      "execution_count": 6,
      "outputs": []
    },
    {
      "cell_type": "markdown",
      "source": [
        "## Functions for conversion"
      ],
      "metadata": {
        "id": "iPC_yzPS8-XJ"
      }
    },
    {
      "cell_type": "code",
      "source": [
        "p.number_to_words('random stuff')"
      ],
      "metadata": {
        "colab": {
          "base_uri": "https://localhost:8080/",
          "height": 35
        },
        "id": "2FmBxFlY__gn",
        "outputId": "7fcfd714-b2ba-43d8-c4dd-3f4d2d9e6240"
      },
      "execution_count": 20,
      "outputs": [
        {
          "output_type": "execute_result",
          "data": {
            "text/plain": [
              "'zero'"
            ],
            "application/vnd.google.colaboratory.intrinsic+json": {
              "type": "string"
            }
          },
          "metadata": {},
          "execution_count": 20
        }
      ]
    },
    {
      "cell_type": "code",
      "source": [
        "def num_to_text(text):\n",
        "  words = text.split()\n",
        "  normalized_text = []\n",
        "  for word in words:\n",
        "    try:\n",
        "      normalized_word = p.number_to_words(word)\n",
        "      if normalized_word == 'zero':\n",
        "        normalized_text.append(word)\n",
        "      else:\n",
        "        normalized_text.append(normalized_word)\n",
        "    except:\n",
        "      # print(f'{word} is not numeric')\n",
        "      pass\n",
        "  normalized_text = ' '.join(normalized_text)\n",
        "  return normalized_text"
      ],
      "metadata": {
        "id": "LGJ1wH2V9Dpv"
      },
      "execution_count": 33,
      "outputs": []
    },
    {
      "cell_type": "code",
      "source": [
        "# def text_to_num(text):\n",
        "#   words = text.split()\n",
        "#   normalized_text = []\n",
        "#   buffer = []\n",
        "#   flag = 0\n",
        "#   for word in words:\n",
        "#     if flag == 1 and word == 'and':\n",
        "#       buffer.append('and')\n",
        "#       continue\n",
        "#     if flag == 1:\n",
        "#       try:\n",
        "#         normalized_word = w2n.word_to_num(word)\n",
        "#         # normalized_text.append(str(normalized_word))\n",
        "#         flag = 1\n",
        "#         buffer.append(word)\n",
        "#       except:\n",
        "#         flag = 0\n",
        "#         buffer = ''\n",
        "#     if flag == 0:\n",
        "#       if buffer:\n",
        "#         normalized_text.append(str(w2n.word_to_num(' '.join(buffer))))\n",
        "#       normalized_text.append(word)\n",
        "#     except:\n",
        "#       try:\n",
        "#         if buffer:\n",
        "#           normalized_text.append(str(w2n.word_to_num(' '.join(buffer))))\n",
        "#       except:\n",
        "#           print(f'invalid text: {buffer}')\n",
        "#       normalized_text.append(word)\n",
        "#       flag = 0\n",
        "\n",
        "\n",
        "#   return ' '.join(normalized_text)"
      ],
      "metadata": {
        "id": "EDdJIV6vCR7K"
      },
      "execution_count": 63,
      "outputs": []
    },
    {
      "cell_type": "code",
      "source": [
        "def text_to_num(text):\n",
        "  words = text.split()\n",
        "  ids = []\n",
        "  for word in words:\n",
        "    try:\n",
        "      normalized_word = w2n.word_to_num(word)\n",
        "      ids.append(1)\n",
        "    except:\n",
        "      if ids:\n",
        "        if ids[-1] == 1 and word == 'and':\n",
        "          ids.append(1)\n",
        "        else:\n",
        "          ids.append(0)\n",
        "      else:\n",
        "        ids.append(0)\n",
        "  print(ids)\n",
        "  buffer = ''\n",
        "  final_words = []\n",
        "  for id in range(len(ids)):\n",
        "    if ids[id] == 0:\n",
        "      if buffer:\n",
        "        final_words.append(buffer.strip())\n",
        "        buffer = ''\n",
        "      final_words.append(words[id])\n",
        "    else:\n",
        "      buffer += words[id] + ' '\n",
        "  print(final_words)\n",
        "\n",
        "  normalized_text = []\n",
        "  for word in final_words:\n",
        "    try:\n",
        "      normalized_word = w2n.word_to_num(word)\n",
        "      normalized_text.append(str(normalized_word))\n",
        "    except:\n",
        "      normalized_text.append(word)\n",
        "  return ' '.join(normalized_text)\n",
        ""
      ],
      "metadata": {
        "id": "Wai7_JopLKYT"
      },
      "execution_count": 82,
      "outputs": []
    },
    {
      "cell_type": "code",
      "source": [
        "text_to_num('Give me five hundred and fifty five rs')"
      ],
      "metadata": {
        "colab": {
          "base_uri": "https://localhost:8080/",
          "height": 70
        },
        "id": "41p34g4iMWPc",
        "outputId": "912b66d5-ff0c-4e10-fc1b-188300495933"
      },
      "execution_count": 83,
      "outputs": [
        {
          "output_type": "stream",
          "name": "stdout",
          "text": [
            "[0, 0, 1, 1, 1, 1, 1, 0]\n",
            "['Give', 'me', 'five hundred and fifty five', 'rs']\n"
          ]
        },
        {
          "output_type": "execute_result",
          "data": {
            "text/plain": [
              "'Give me 555 rs'"
            ],
            "application/vnd.google.colaboratory.intrinsic+json": {
              "type": "string"
            }
          },
          "metadata": {},
          "execution_count": 83
        }
      ]
    },
    {
      "cell_type": "markdown",
      "source": [
        "## Testing"
      ],
      "metadata": {
        "id": "wZAnw4EB_MSS"
      }
    },
    {
      "cell_type": "code",
      "source": [
        "for key in num_to_word:\n",
        "  print(f'Input: {key}\\nExpected_outputs: {num_to_word[key]}\\nResult: {num_to_text(key)}\\n\\n')"
      ],
      "metadata": {
        "colab": {
          "base_uri": "https://localhost:8080/"
        },
        "id": "NQRt3_7s_OcP",
        "outputId": "4db3b770-3a6c-4ff6-8129-c5a5e235078e"
      },
      "execution_count": 35,
      "outputs": [
        {
          "output_type": "stream",
          "name": "stdout",
          "text": [
            "Input: When is your 21st birthday?\n",
            "Expected_outputs: ['When is your twenty first birthday?', 'When is your twenty-first birthday?']\n",
            "Result: When is your twenty-first birthday?\n",
            "\n",
            "\n",
            "Input: When is your 21 st birthday?\n",
            "Expected_outputs: ['When is your twenty first birthday?', 'When is your twenty-first birthday?']\n",
            "Result: When is your twenty-one st birthday?\n",
            "\n",
            "\n",
            "Input: Give me 1 million rs\n",
            "Expected_outputs: ['Give me one million rs']\n",
            "Result: Give me one million rs\n",
            "\n",
            "\n",
            "Input: I need 15 oranges\n",
            "Expected_outputs: ['I need fifteen oranges']\n",
            "Result: I need fifteen oranges\n",
            "\n",
            "\n",
            "Input: What do 1563 apples cost?\n",
            "Expected_outputs: ['What do fifteen hundred and sixty three apples cost?', 'What do one thousand five hundred and sixty three apples cost?']\n",
            "Result: What do one thousand, five hundred and sixty-three apples cost?\n",
            "\n",
            "\n",
            "Input: The revolt happened in 1857\n",
            "Expected_outputs: ['The revolt happened in eighteen fifty seven', 'The revolt happened in eighteen hundred and fifty seven']\n",
            "Result: The revolt happened in one thousand, eight hundred and fifty-seven\n",
            "\n",
            "\n",
            "Input: my phone number is 8916712763\n",
            "Expected_outputs: ['my phone number is eight nine one six seven one two seven six three']\n",
            "Result: my phone number is eight billion, nine hundred and sixteen million, seven hundred and twelve thousand, seven hundred and sixty-three\n",
            "\n",
            "\n",
            "Input: the date today is 27/07/23.\n",
            "Expected_outputs: ['the date today is twenty seventh July, twenty twenty three.', 'the date today is twenty seventh July, two thousand twenty three.']\n",
            "Result: the date today is two hundred and seventy thousand, seven hundred and twenty-three point\n",
            "\n",
            "\n",
            "Input: i need to pay 25,560 dollars to her.\n",
            "Expected_outputs: ['I need to pay twenty five thousand five hundred and sixty three dollars to her']\n",
            "Result: i need to pay twenty-five thousand, five hundred and sixty dollars to zero point\n",
            "\n",
            "\n"
          ]
        }
      ]
    },
    {
      "cell_type": "code",
      "source": [
        "for key in word_to_num:\n",
        "  print(f'Input: {key}\\nExpected_outputs: {word_to_num[key]}\\nResult: {text_to_num(key)}\\n\\n')"
      ],
      "metadata": {
        "colab": {
          "base_uri": "https://localhost:8080/"
        },
        "id": "K8rHwqBoFhHq",
        "outputId": "842e0875-00dd-4d90-ae20-164068959cab"
      },
      "execution_count": 84,
      "outputs": [
        {
          "output_type": "stream",
          "name": "stdout",
          "text": [
            "[0, 0, 0, 1, 0, 0]\n",
            "['When', 'is', 'your', 'twenty', 'first', 'birthday?']\n",
            "Input: When is your twenty first birthday?\n",
            "Expected_outputs: ['When is your 21st birthday?']\n",
            "Result: When is your 20 first birthday?\n",
            "\n",
            "\n",
            "[0, 0, 1, 1, 1, 1, 1, 0]\n",
            "['Give', 'me', 'five hundred and fifty five', 'rs.']\n",
            "Input: Give me five hundred and fifty five rs.\n",
            "Expected_outputs: ['Give me 555 rs.']\n",
            "Result: Give me 555 rs.\n",
            "\n",
            "\n",
            "[0, 0, 0, 0, 1, 0]\n",
            "['It', 'is', 'worth', 'a', 'million', 'pounds']\n",
            "Input: It is worth a million pounds\n",
            "Expected_outputs: ['It is worth 1000000 pounds']\n",
            "Result: It is worth a 1000000 pounds\n",
            "\n",
            "\n",
            "[0, 0, 0, 0, 0, 0]\n",
            "['I', 'came', 'second', 'in', 'the', 'race.']\n",
            "Input: I came second in the race.\n",
            "Expected_outputs: ['I came 2nd in the race']\n",
            "Result: I came second in the race.\n",
            "\n",
            "\n"
          ]
        }
      ]
    },
    {
      "cell_type": "code",
      "source": [
        "w2n.word_to_num('first')"
      ],
      "metadata": {
        "colab": {
          "base_uri": "https://localhost:8080/",
          "height": 287
        },
        "id": "aOA8ZgfoGtof",
        "outputId": "a37b7907-6e0c-47b9-8e2a-bd8cb1f356e3"
      },
      "execution_count": 62,
      "outputs": [
        {
          "output_type": "error",
          "ename": "ValueError",
          "evalue": "ignored",
          "traceback": [
            "\u001b[0;31m---------------------------------------------------------------------------\u001b[0m",
            "\u001b[0;31mValueError\u001b[0m                                Traceback (most recent call last)",
            "\u001b[0;32m<ipython-input-62-bf4b40d5da48>\u001b[0m in \u001b[0;36m<cell line: 1>\u001b[0;34m()\u001b[0m\n\u001b[0;32m----> 1\u001b[0;31m \u001b[0mw2n\u001b[0m\u001b[0;34m.\u001b[0m\u001b[0mword_to_num\u001b[0m\u001b[0;34m(\u001b[0m\u001b[0;34m'first'\u001b[0m\u001b[0;34m)\u001b[0m\u001b[0;34m\u001b[0m\u001b[0;34m\u001b[0m\u001b[0m\n\u001b[0m",
            "\u001b[0;32m/usr/local/lib/python3.10/dist-packages/word2number/w2n.py\u001b[0m in \u001b[0;36mword_to_num\u001b[0;34m(number_sentence)\u001b[0m\n\u001b[1;32m    152\u001b[0m     \u001b[0;31m# Error message if the user enters invalid input!\u001b[0m\u001b[0;34m\u001b[0m\u001b[0;34m\u001b[0m\u001b[0m\n\u001b[1;32m    153\u001b[0m     \u001b[0;32mif\u001b[0m \u001b[0mlen\u001b[0m\u001b[0;34m(\u001b[0m\u001b[0mclean_numbers\u001b[0m\u001b[0;34m)\u001b[0m \u001b[0;34m==\u001b[0m \u001b[0;36m0\u001b[0m\u001b[0;34m:\u001b[0m\u001b[0;34m\u001b[0m\u001b[0;34m\u001b[0m\u001b[0m\n\u001b[0;32m--> 154\u001b[0;31m         \u001b[0;32mraise\u001b[0m \u001b[0mValueError\u001b[0m\u001b[0;34m(\u001b[0m\u001b[0;34m\"No valid number words found! Please enter a valid number word (eg. two million twenty three thousand and forty nine)\"\u001b[0m\u001b[0;34m)\u001b[0m\u001b[0;34m\u001b[0m\u001b[0;34m\u001b[0m\u001b[0m\n\u001b[0m\u001b[1;32m    155\u001b[0m \u001b[0;34m\u001b[0m\u001b[0m\n\u001b[1;32m    156\u001b[0m     \u001b[0;31m# Error if user enters million,billion, thousand or decimal point twice\u001b[0m\u001b[0;34m\u001b[0m\u001b[0;34m\u001b[0m\u001b[0m\n",
            "\u001b[0;31mValueError\u001b[0m: No valid number words found! Please enter a valid number word (eg. two million twenty three thousand and forty nine)"
          ]
        }
      ]
    },
    {
      "cell_type": "markdown",
      "source": [
        "# Tagalog"
      ],
      "metadata": {
        "id": "QFjcZ162T1TA"
      }
    },
    {
      "cell_type": "code",
      "source": [],
      "metadata": {
        "id": "LgFnbAA5SuXx"
      },
      "execution_count": null,
      "outputs": []
    }
  ]
}