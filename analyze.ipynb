{
 "cells": [
  {
   "cell_type": "code",
   "execution_count": 1,
   "metadata": {},
   "outputs": [],
   "source": [
    "# first download train, valid, test datasets\n",
    "# for lang in langs, \n",
    "langs = {'hi':[], 'mr':[], 'te':[], 'ta':[], 'gu':[], 'en':[], 'bn':[], 'kn':[]}"
   ]
  },
  {
   "cell_type": "code",
   "execution_count": 3,
   "metadata": {},
   "outputs": [],
   "source": [
    "import json\n",
    "from collections import defaultdict"
   ]
  },
  {
   "cell_type": "code",
   "execution_count": 9,
   "metadata": {},
   "outputs": [],
   "source": [
    "for lang in langs.keys():\n",
    "    dic = defaultdict(int)\n",
    "    train_path = f\"{lang}/train.jsonl\"\n",
    "    val_path = f\"{lang}/val.jsonl\"\n",
    "    test_path = f\"{lang}/test.jsonl\"\n",
    "\n",
    "    with open(train_path, 'r') as read_file:\n",
    "        for line in read_file:\n",
    "            data = json.loads(line)\n",
    "            for fact in data['facts']:\n",
    "                dic[fact[0]] += 1\n",
    "    with open(val_path, 'r') as read_file:\n",
    "        for line in read_file:\n",
    "            data = json.loads(line)\n",
    "            for fact in data['facts']:\n",
    "                dic[fact[0]] += 1\n",
    "    with open(test_path, 'r') as read_file:\n",
    "        for line in read_file:\n",
    "            data = json.loads(line)\n",
    "            for fact in data['facts']:\n",
    "                dic[fact[0]] += 1\n",
    "\n",
    "    lst = [k for k, v in sorted(dic.items(), key=lambda x:x[1], reverse=True)[:10]]\n",
    "    langs[lang] = lst"
   ]
  },
  {
   "cell_type": "code",
   "execution_count": 12,
   "metadata": {},
   "outputs": [],
   "source": [
    "with open('sample.json', 'w') as write_file:\n",
    "    write_file.write(json.dumps(langs, indent=2))"
   ]
  },
  {
   "cell_type": "code",
   "execution_count": null,
   "metadata": {},
   "outputs": [],
   "source": []
  }
 ],
 "metadata": {
  "interpreter": {
   "hash": "fd0d782713032c239be331c9ea6d054a3c886f04ae6d19082ca5dd54216e8bc8"
  },
  "kernelspec": {
   "display_name": "Python 3.7.11 64-bit ('base': conda)",
   "language": "python",
   "name": "python3"
  },
  "language_info": {
   "codemirror_mode": {
    "name": "ipython",
    "version": 3
   },
   "file_extension": ".py",
   "mimetype": "text/x-python",
   "name": "python",
   "nbconvert_exporter": "python",
   "pygments_lexer": "ipython3",
   "version": "3.7.11"
  },
  "orig_nbformat": 4
 },
 "nbformat": 4,
 "nbformat_minor": 2
}
